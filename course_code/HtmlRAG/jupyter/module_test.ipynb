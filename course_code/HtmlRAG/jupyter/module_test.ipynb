{
 "cells": [
  {
   "cell_type": "code",
   "execution_count": 1,
   "id": "initial_id",
   "metadata": {
    "ExecuteTime": {
     "end_time": "2024-11-12T03:29:26.799044Z",
     "start_time": "2024-11-12T03:29:17.376626Z"
    },
    "collapsed": true
   },
   "outputs": [
    {
     "name": "stderr",
     "output_type": "stream",
     "text": [
      "/data_train/code/biz/jiejuntan/anaconda3/envs/htmlrag/lib/python3.9/site-packages/tqdm/auto.py:21: TqdmWarning: IProgress not found. Please update jupyter and ipywidgets. See https://ipywidgets.readthedocs.io/en/stable/user_install.html\n",
      "  from .autonotebook import tqdm as notebook_tqdm\n"
     ]
    },
    {
     "name": "stdout",
     "output_type": "stream",
     "text": [
      "<html>\n",
      "<title>When was the bellagio in las vegas built?</title>\n",
      "<p>The Bellagio is a luxury hotel and casino located on the Las Vegas Strip in Paradise, Nevada. It was built in 1998.</p>\n",
      "<div>\n",
      "<p>Some other text</p>\n",
      "<p>Some other text</p>\n",
      "</div>\n",
      "</html>\n"
     ]
    }
   ],
   "source": [
    "import sys\n",
    "\n",
    "from IPython import embed\n",
    "\n",
    "sys.path.append('../toolkit/')\n",
    "from htmlrag import clean_html\n",
    "\n",
    "question=\"When was the bellagio in las vegas built?\"\n",
    "html=\"\"\"\n",
    "<html>\n",
    "<head>\n",
    "<title>When was the bellagio in las vegas built?</title>\n",
    "</head>\n",
    "<body>\n",
    "<p class=\"class0\">The Bellagio is a luxury hotel and casino located on the Las Vegas Strip in Paradise, Nevada. It was built in 1998.</p>\n",
    "</body>\n",
    "<div>\n",
    "<div>\n",
    "<p>Some other text</p>\n",
    "<p>Some other text</p>\n",
    "</div>\n",
    "</div>\n",
    "<p class=\"class1\"></p>\n",
    "<!-- Some comment -->\n",
    "<script type=\"text/javascript\">\n",
    "document.write(\"Hello World!\");\n",
    "</script>\n",
    "</html>\n",
    "\"\"\"\n",
    "\n",
    "# html=open(\"../Quincaillerie & Matériaux - Aide pour vrai - Canac.html\").read()\n",
    "\n",
    "simplified_html = clean_html(html)\n",
    "print(simplified_html)\n",
    "\n",
    "\n",
    "# <html>\n",
    "# <title>When was the bellagio in las vegas built?</title>\n",
    "# <p>The Bellagio is a luxury hotel and casino located on the Las Vegas Strip in Paradise, Nevada. It was built in 1998.</p>\n",
    "# <div>\n",
    "# <p>Some other text</p>\n",
    "# <p>Some other text</p>\n",
    "# </div>\n",
    "# </html>"
   ]
  },
  {
   "cell_type": "code",
   "execution_count": 2,
   "id": "3f8ffa70160a7e1e",
   "metadata": {
    "ExecuteTime": {
     "end_time": "2024-11-12T03:29:26.924013Z",
     "start_time": "2024-11-12T03:29:26.918065Z"
    }
   },
   "outputs": [
    {
     "name": "stdout",
     "output_type": "stream",
     "text": [
      "Block Content:  <title>When was the bellagio in las vegas built?</title>\n",
      "Block Path:  ['html', 'title']\n",
      "Is Leaf:  True\n",
      "\n",
      "Block Content:  <div>\n",
      "<p>Some other text</p>\n",
      "<p>Some other text</p>\n",
      "</div>\n",
      "Block Path:  ['html', 'div']\n",
      "Is Leaf:  True\n",
      "\n",
      "Block Content:  <p>The Bellagio is a luxury hotel and casino located on the Las Vegas Strip in Paradise, Nevada. It was built in 1998.</p>\n",
      "Block Path:  ['html', 'p']\n",
      "Is Leaf:  True\n",
      "\n"
     ]
    }
   ],
   "source": [
    "from htmlrag import build_block_tree\n",
    "\n",
    "# if you have mutiple HTML documents, merge them using the following code\n",
    "# simplified_html = \"\\n\".join([clean_html(html) for html in htmls])\n",
    "block_tree, simplified_html=build_block_tree(simplified_html, max_node_words=10)\n",
    "for block in block_tree:\n",
    "    print(\"Block Content: \", block[0])\n",
    "    print(\"Block Path: \", block[1])\n",
    "    print(\"Is Leaf: \", block[2])\n",
    "    print(\"\")\n",
    "\n",
    "# Block Content:  <title>When was the bellagio in las vegas built?</title>\n",
    "# Block Path:  ['html', 'title']\n",
    "# Is Leaf:  True\n",
    "# \n",
    "# Block Content:  <div>\n",
    "# <p>Some other text</p>\n",
    "# <p>Some other text</p>\n",
    "# </div>\n",
    "# Block Path:  ['html', 'div']\n",
    "# Is Leaf:  True\n",
    "# \n",
    "# Block Content:  <p>The Bellagio is a luxury hotel and casino located on the Las Vegas Strip in Paradise, Nevada. It was built in 1998.</p>\n",
    "# Block Path:  ['html', 'p']\n",
    "# Is Leaf:  True\n"
   ]
  },
  {
   "cell_type": "code",
   "execution_count": 3,
   "id": "3d1297742f5cdc50",
   "metadata": {
    "ExecuteTime": {
     "end_time": "2024-11-12T03:29:48.562614Z",
     "start_time": "2024-11-12T03:29:27.296626Z"
    }
   },
   "outputs": [
    {
     "name": "stderr",
     "output_type": "stream",
     "text": [
      "/data_train/code/biz/jiejuntan/anaconda3/envs/htmlrag/lib/python3.9/site-packages/_distutils_hack/__init__.py:54: UserWarning: Reliance on distutils from stdlib is deprecated. Users must rely on setuptools to provide the distutils module. Avoid importing distutils or import setuptools first, and avoid setting SETUPTOOLS_USE_DISTUTILS=stdlib. Register concerns at https://github.com/pypa/setuptools/issues/new?template=distutils-deprecation.yml\n",
      "  warnings.warn(\n"
     ]
    },
    {
     "name": "stdout",
     "output_type": "stream",
     "text": [
      "[0, 2, 1]\n"
     ]
    }
   ],
   "source": [
    "from htmlrag import EmbedHTMLPruner\n",
    "\n",
    "embed_model=\"/train_data_load/tjj_wst_hf/tjj_hf/bge-large-en/\"\n",
    "query_instruction_for_retrieval = \"Instruct: Given a web search query, retrieve relevant passages that answer the query\\nQuery: \"\n",
    "embed_html_pruner = EmbedHTMLPruner(embed_model=embed_model, local_inference=True, query_instruction_for_retrieval = query_instruction_for_retrieval)\n",
    "# alternatively you can init a remote TEI model, refer to https://github.com/huggingface/text-embeddings-inference.\n",
    "# tei_endpoint=\"http://YOUR_TEI_ENDPOINT\"\n",
    "# embed_html_pruner = EmbedHTMLPruner(embed_model=embed_model, local_inference=False, query_instruction_for_retrieval = query_instruction_for_retrieval, endpoint=tei_endpoint)\n",
    "block_rankings=embed_html_pruner.calculate_block_rankings(question, simplified_html, block_tree)\n",
    "print(block_rankings)\n",
    "\n",
    "# [0, 2, 1]"
   ]
  },
  {
   "cell_type": "code",
   "execution_count": 4,
   "id": "1cd2c5a824adaa13",
   "metadata": {
    "ExecuteTime": {
     "end_time": "2024-11-12T03:29:48.766664Z",
     "start_time": "2024-11-12T03:29:48.731043Z"
    }
   },
   "outputs": [
    {
     "name": "stdout",
     "output_type": "stream",
     "text": [
      "[0, 2, 1]\n"
     ]
    }
   ],
   "source": [
    "#. alternatively you can use bm25 to rank the blocks\n",
    "from htmlrag import BM25HTMLPruner\n",
    "bm25_html_pruner = BM25HTMLPruner()\n",
    "block_rankings=bm25_html_pruner.calculate_block_rankings(question, simplified_html, block_tree)\n",
    "print(block_rankings)\n",
    "assert len(block_rankings)==len(block_tree), f\"The number of block rankings {len(block_rankings)} should be equal to the number of blocks {len(block_tree)}\"\n",
    "# [0, 2, 1]"
   ]
  },
  {
   "cell_type": "code",
   "execution_count": 5,
   "id": "afbafc34270542e1",
   "metadata": {
    "ExecuteTime": {
     "end_time": "2024-11-12T03:29:49.305936Z",
     "start_time": "2024-11-12T03:29:48.854919Z"
    }
   },
   "outputs": [
    {
     "name": "stdout",
     "output_type": "stream",
     "text": [
      "<html>\n",
      "<title>When was the bellagio in las vegas built?</title>\n",
      "<p>The Bellagio is a luxury hotel and casino located on the Las Vegas Strip in Paradise, Nevada. It was built in 1998.</p>\n",
      "</html>\n"
     ]
    }
   ],
   "source": [
    "from transformers import AutoTokenizer\n",
    "chat_tokenizer=AutoTokenizer.from_pretrained(\"../../../huggingface/Meta-Llama-3.1-70B-Instruct\")\n",
    "\n",
    "max_context_window=60\n",
    "pruned_html=embed_html_pruner.prune_HTML(simplified_html, block_tree, block_rankings, chat_tokenizer, max_context_window)\n",
    "print(pruned_html)\n",
    "\n",
    "# <html>\n",
    "# <title>When was the bellagio in las vegas built?</title>\n",
    "# <p>The Bellagio is a luxury hotel and casino located on the Las Vegas Strip in Paradise, Nevada. It was built in 1998.</p>\n",
    "# </html>"
   ]
  },
  {
   "cell_type": "code",
   "execution_count": 6,
   "id": "cca8ad3a055e894a",
   "metadata": {
    "ExecuteTime": {
     "end_time": "2024-11-12T03:29:49.470216Z",
     "start_time": "2024-11-12T03:29:49.466278Z"
    }
   },
   "outputs": [
    {
     "name": "stdout",
     "output_type": "stream",
     "text": [
      "Block Content:  <title>When was the bellagio in las vegas built?</title>\n",
      "Block Path:  ['html', 'title']\n",
      "Is Leaf:  True\n",
      "\n",
      "Block Content:  <p>The Bellagio is a luxury hotel and casino located on the Las Vegas Strip in Paradise, Nevada. It was built in 1998.</p>\n",
      "Block Path:  ['html', 'p']\n",
      "Is Leaf:  True\n",
      "\n"
     ]
    }
   ],
   "source": [
    "block_tree, pruned_html=build_block_tree(pruned_html, max_node_words=10)\n",
    "for block in block_tree:\n",
    "    print(\"Block Content: \", block[0])\n",
    "    print(\"Block Path: \", block[1])\n",
    "    print(\"Is Leaf: \", block[2])\n",
    "    print(\"\")\n",
    "    \n",
    "# Block Content:  <title>When was the bellagio in las vegas built?</title>\n",
    "# Block Path:  ['html', 'title']\n",
    "# Is Leaf:  True\n",
    "# \n",
    "# Block Content:  <p>The Bellagio is a luxury hotel and casino located on the Las Vegas Strip in Paradise, Nevada. It was built in 1998.</p>\n",
    "# Block Path:  ['html', 'p']\n",
    "# Is Leaf:  True"
   ]
  },
  {
   "cell_type": "code",
   "execution_count": 12,
   "id": "ee114eda86432376",
   "metadata": {
    "ExecuteTime": {
     "end_time": "2024-11-12T03:42:01.272230Z",
     "start_time": "2024-11-12T03:41:59.859203Z"
    }
   },
   "outputs": [
    {
     "name": "stdout",
     "output_type": "stream",
     "text": [
      "[0, 1]\n"
     ]
    }
   ],
   "source": [
    "from htmlrag import GenHTMLPruner\n",
    "import torch\n",
    "\n",
    "# ckpt_path = \"../../../huggingface/HTML-Pruner-Phi-3.8B\"\n",
    "ckpt_path = \"../../../huggingface/HTML-Pruner-Llama-1B\"\n",
    "if torch.cuda.is_available():\n",
    "    device=\"cuda\"\n",
    "else:\n",
    "    device=\"cpu\"\n",
    "gen_embed_pruner = GenHTMLPruner(gen_model=ckpt_path, max_node_words=5, device=device)\n",
    "block_rankings=gen_embed_pruner.calculate_block_rankings(question, pruned_html, block_tree)\n",
    "print(block_rankings)\n",
    "\n",
    "# [1, 0]"
   ]
  },
  {
   "cell_type": "code",
   "execution_count": 12,
   "id": "8ec9c9e5cfbe1da9",
   "metadata": {
    "ExecuteTime": {
     "end_time": "2024-10-20T06:01:29.123781Z",
     "start_time": "2024-10-20T06:01:29.118308Z"
    }
   },
   "outputs": [
    {
     "name": "stdout",
     "output_type": "stream",
     "text": [
      "<title>When was the bellagio in las vegas built?</title>\n"
     ]
    }
   ],
   "source": [
    "max_context_window=32\n",
    "pruned_html=gen_embed_pruner.prune_HTML(pruned_html, block_tree, block_rankings, chat_tokenizer, max_context_window)\n",
    "print(pruned_html)\n",
    "\n",
    "# <p>The Bellagio is a luxury hotel and casino located on the Las Vegas Strip in Paradise, Nevada. It was built in 1998.</p>"
   ]
  },
  {
   "cell_type": "code",
   "execution_count": 13,
   "id": "31820625549d9182",
   "metadata": {
    "ExecuteTime": {
     "end_time": "2024-10-20T06:01:45.220618Z",
     "start_time": "2024-10-20T06:01:45.213987Z"
    }
   },
   "outputs": [
    {
     "data": {
      "text/plain": [
       "[1, 0]"
      ]
     },
     "execution_count": 13,
     "metadata": {},
     "output_type": "execute_result"
    }
   ],
   "source": [
    "import numpy as np\n",
    "list(np.argsort([1,2])[::-1])"
   ]
  },
  {
   "cell_type": "code",
   "execution_count": null,
   "id": "1d6bcf5600b11388",
   "metadata": {},
   "outputs": [],
   "source": []
  }
 ],
 "metadata": {
  "kernelspec": {
   "display_name": "Python 3",
   "language": "python",
   "name": "python3"
  },
  "language_info": {
   "codemirror_mode": {
    "name": "ipython",
    "version": 2
   },
   "file_extension": ".py",
   "mimetype": "text/x-python",
   "name": "python",
   "nbconvert_exporter": "python",
   "pygments_lexer": "ipython2",
   "version": "2.7.6"
  }
 },
 "nbformat": 4,
 "nbformat_minor": 5
}
